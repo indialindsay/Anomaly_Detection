{
 "cells": [
  {
   "cell_type": "markdown",
   "metadata": {},
   "source": [
    "\n",
    "\n",
    "#### Data Cleaning Process:\n",
    "- merged datasets together \n",
    "- selected site id 38 and meter 10\n",
    "- dropped irrelevant columns \n",
    "- selected day, weekday, month, hour, year from timestamp\n",
    "- ensured that all energy measurements are in the same units\n",
    "- transformed our target variable by differencing values in energy measurements\n",
    "- feature engineering:\n",
    "    - twice differenced the energy measurements\n",
    "    - accounted for weekly and monthly lags \n",
    "- selecting years 2012-2015 for training set and 2016,2017 for test set\n",
    "    - Train dataset contains 34,172 observations. Test contains 16,708\n",
    "- looked into and removed potential outliers for quantitative variables\n",
    "\n",
    "Datasets merged together:\n",
    "\n",
    "- training-data included information on energy recorded by meters and timestamp for record\n",
    "- weather data included local temperatures for meter sites\n",
    "- metadata included information about meters \n",
    "- holiday included whether the timestamp was a holiday \n",
    "- distance contains information on how far the weather station is from the meter. We are only looking into one meter so we it is the same value for every observation. \n",
    "- units - we accounted for the differing units so this column is irrelevant now. \n",
    "\n",
    "Columns dropped during data cleaning process:\n",
    "- site_idm and meter id as all for meter 10 at site 38 \n",
    "- surface as it all NaN values\n",
    "- dates as we have the timestamp column\n",
    "- we created a dummy for holiday so we can lose the other holiday columns \n",
    "\n",
    "### Independent variables:\n",
    "'Temperature', 'holiday', 'prev value','twice prev value','day shift','month shift'\n",
    "\n",
    "### Dependent variable: \n",
    "'tv delta'\n"
   ]
  },
  {
   "cell_type": "code",
   "execution_count": 1,
   "metadata": {},
   "outputs": [],
   "source": [
    "import pandas as pd\n",
    "import numpy as np\n",
    "\n",
    "#importing datasets\n",
    "tr = pd.read_csv('training-data.csv',sep=\";\")\n",
    "w = pd.read_csv('weather.csv',sep=\";\")\n",
    "m = pd.read_csv('metadata.csv',sep=\";\")\n",
    "h = pd.read_csv('power-laws-detecting-anomalies-in-usage-holidays.csv', sep=\";\")"
   ]
  },
  {
   "cell_type": "code",
   "execution_count": 2,
   "metadata": {},
   "outputs": [],
   "source": [
    "#ensuring site id are same data type in weather/metadata/holiday to merge\n",
    "w['site_id'] = w['site_id'].astype(float)\n",
    "\n",
    "m.loc[m['site_id'] == '038', 'site_id'] = 38\n",
    "m['site_id'] = m['site_id'].astype(float)\n",
    "\n",
    "h.loc[h['site_id'] == '038', 'site_id'] = 38\n",
    "h['site_id'] = h['site_id'].astype(float)"
   ]
  },
  {
   "cell_type": "code",
   "execution_count": 3,
   "metadata": {},
   "outputs": [],
   "source": [
    "#merging weather with meta data\n",
    "merge = m.merge(w, on= 'site_id', how='inner', suffixes = ['m', 'w'])"
   ]
  },
  {
   "cell_type": "code",
   "execution_count": 4,
   "metadata": {},
   "outputs": [],
   "source": [
    "#meter ids must be same datatype to merge\n",
    "merge['meter_id'] = merge['meter_id'].astype(float)\n",
    "tr['meter_id'] = tr['meter_id'].astype(float)"
   ]
  },
  {
   "cell_type": "code",
   "execution_count": 5,
   "metadata": {},
   "outputs": [],
   "source": [
    "#selected site id 38 and meter 10\n",
    "h = h[h['site_id'] == 38]\n",
    "merge = merge[merge['meter_id'] == 3810110.0]\n",
    "tr = tr[tr['meter_id'] == 3810110.0]"
   ]
  },
  {
   "cell_type": "code",
   "execution_count": 6,
   "metadata": {},
   "outputs": [],
   "source": [
    "#merging meter data with meta/weather data\n",
    "merge2 = pd.merge(tr,merge,how='inner',on=['meter_id','Timestamp'])"
   ]
  },
  {
   "cell_type": "markdown",
   "metadata": {},
   "source": [
    "### Dealing with time: making date a timestamp to merge holidays with the rest of the data"
   ]
  },
  {
   "cell_type": "code",
   "execution_count": 7,
   "metadata": {},
   "outputs": [],
   "source": [
    "from datetime import datetime\n",
    "\n",
    "#standardizes all times to same timezone: UTC 9coordinated universal time) \n",
    "merge2['Timestamp'] = pd.to_datetime(merge2['Timestamp'], utc=True)\n",
    "h['Timestamp'] = pd.to_datetime(h['Date'], utc=True)\n",
    "\n",
    "#grabbing just dates\n",
    "merge2['dates'] = merge2['Timestamp'].dt.date\n",
    "h['dates'] = h['Timestamp'].dt.date"
   ]
  },
  {
   "cell_type": "code",
   "execution_count": 8,
   "metadata": {},
   "outputs": [],
   "source": [
    "#left join to merge holiday data\n",
    "merge3 = pd.merge(merge2,h,how='left',on=['dates'],suffixes = ['m','h']) "
   ]
  },
  {
   "cell_type": "code",
   "execution_count": 9,
   "metadata": {},
   "outputs": [],
   "source": [
    "#creating holiday dummy, a 0 if not a holiday and a 1 if it is a holiday \n",
    "merge3['holiday'] = np.where(merge3['Holiday'].isna(), 0, 1)"
   ]
  },
  {
   "cell_type": "code",
   "execution_count": 10,
   "metadata": {},
   "outputs": [
    {
     "data": {
      "text/plain": [
       "0    49414\n",
       "1     1472\n",
       "Name: holiday, dtype: int64"
      ]
     },
     "execution_count": 10,
     "metadata": {},
     "output_type": "execute_result"
    }
   ],
   "source": [
    "#there are 1,472 holidays in this data set \n",
    "merge3['holiday'].value_counts()"
   ]
  },
  {
   "cell_type": "code",
   "execution_count": 11,
   "metadata": {},
   "outputs": [],
   "source": [
    "#dropping irrelevant columns\n",
    "merge3 = merge3.drop(['meter_id','site_idm','surface','dates','Date','Holiday','site_idh','Timestamph'],axis=1)"
   ]
  },
  {
   "cell_type": "code",
   "execution_count": 12,
   "metadata": {},
   "outputs": [],
   "source": [
    "#renaming timestamp to a more simple name\n",
    "merge3.rename(columns = {'Timestampm':'Timestamp'}, inplace = True) "
   ]
  },
  {
   "cell_type": "markdown",
   "metadata": {},
   "source": [
    "#### Dealing with missing values:\n",
    "\n",
    "Some rows are missing all values, we will remove these rows. "
   ]
  },
  {
   "cell_type": "code",
   "execution_count": 13,
   "metadata": {},
   "outputs": [],
   "source": [
    "merge3.dropna(axis = 0, how='any', inplace = True)"
   ]
  },
  {
   "cell_type": "markdown",
   "metadata": {},
   "source": [
    "### Dealing with time: selecting day, weekday, month, hour, year from timestamp"
   ]
  },
  {
   "cell_type": "code",
   "execution_count": 14,
   "metadata": {},
   "outputs": [],
   "source": [
    "#breaking timestamp down \n",
    "def timestamp(df):\n",
    "    df['Weekday'] = df['Timestamp'].dt.weekday\n",
    "    df['Hour'] = df['Timestamp'].dt.hour\n",
    "    df['Month'] = df['Timestamp'].dt.month\n",
    "    df['Day'] = df['Timestamp'].dt.day\n",
    "    \n",
    "    # ensuring no duplicates\n",
    "    df = df.groupby(['Timestamp']).first()\n",
    "    df.reset_index(level=0, inplace=True)\n",
    "    return df\n",
    "\n",
    "#renaming dataset to a more simple name\n",
    "df = timestamp(merge3)"
   ]
  },
  {
   "cell_type": "markdown",
   "metadata": {},
   "source": [
    "### Standardizing units of measurement to kwh\n",
    "\n",
    "We are interested in predicting the energy measurements in the values column. The units column contains 3 different units:  kwh, count, and degree celsius. The following code converts them all to kwh"
   ]
  },
  {
   "cell_type": "code",
   "execution_count": 15,
   "metadata": {},
   "outputs": [],
   "source": [
    "#ignore count column - just convert everything to KWH\n",
    "import numpy as np\n",
    "\n",
    "def to_kwh(row):\n",
    "    if 'degree celsius' in row['units']:\n",
    "        kwh = 0.00052753*row['Values']\n",
    "    elif 'kWh' in row['units']:\n",
    "        kwh = row['Values']\n",
    "    elif 'count' in row['units']:\n",
    "        kwh = np.nan\n",
    "    return kwh\n",
    "\n",
    "#applying above function to every row\n",
    "df['kwh values'] = df.apply(lambda row: to_kwh(row), axis=1)"
   ]
  },
  {
   "cell_type": "code",
   "execution_count": 16,
   "metadata": {},
   "outputs": [
    {
     "data": {
      "text/plain": [
       "[<matplotlib.lines.Line2D at 0x22b6b583248>]"
      ]
     },
     "execution_count": 16,
     "metadata": {},
     "output_type": "execute_result"
    },
    {
     "data": {
      "image/png": "[encoded data removed]",
      "text/plain": [
       "<Figure size 432x288 with 1 Axes>"
      ]
     },
     "metadata": {
      "needs_background": "light"
     },
     "output_type": "display_data"
    }
   ],
   "source": [
    "import matplotlib.pyplot as plt\n",
    "plt.plot(df['kwh values'].iloc[:1000])"
   ]
  },
  {
   "cell_type": "code",
   "execution_count": 17,
   "metadata": {},
   "outputs": [
    {
     "data": {
      "text/plain": [
       "[<matplotlib.lines.Line2D at 0x22b769a0688>]"
      ]
     },
     "execution_count": 17,
     "metadata": {},
     "output_type": "execute_result"
    },
    {
     "data": {
      "image/png": "[encoded data removed]",
      "text/plain": [
       "<Figure size 432x288 with 1 Axes>"
      ]
     },
     "metadata": {
      "needs_background": "light"
     },
     "output_type": "display_data"
    }
   ],
   "source": [
    "plt.plot(df['Values'].iloc[:1000])"
   ]
  },
  {
   "cell_type": "markdown",
   "metadata": {},
   "source": [
    "Note that there is no difference between the plots. This indicates that the values column was likely already converted to kwh. It's great we double checked! \n",
    "\n",
    "We will use the original values column as it contains additional values for when the units is count. We had ignored these as did not know how to interpret this measurement\n",
    "\n",
    "__ALSO__ notice how the line is not perfectly straight but has a few bumps. This indicates anomolies in energy usage. "
   ]
  },
  {
   "cell_type": "code",
   "execution_count": 18,
   "metadata": {},
   "outputs": [],
   "source": [
    "df = df.drop(['kwh values'], axis=1)"
   ]
  },
  {
   "cell_type": "markdown",
   "metadata": {},
   "source": [
    "### Feature engineering: Differencing\n",
    "\n",
    "Observe from the above plots that the energy measurements are cumulative. As we are interested in detecting anomolies, we need to difference consecutive measurement values. Anomolies occur when the differences between measurements are very odd.\n",
    "\n",
    "\n",
    "1. We found the differences by shifting the timestamp values (time delta). \n",
    "2. We then found the difference in measurements (value delta)\n",
    "3. To account for the dataset not always having consecutive time measurements, we divided the measurement difference by the hours in between measurements. This will normalize our difference and will aid in detecting anomolies. The below dataframe shows 484 observatings where time was not measured consecutively. If we merely used the value delta without accounting for the time difference, our model would assume it is an anomoly since it's a very high value. \n",
    "4. tv delta is the name of our normalized difference variable. This will be our new target feature\n"
   ]
  },
  {
   "cell_type": "code",
   "execution_count": 19,
   "metadata": {},
   "outputs": [],
   "source": [
    "df['Time Delta'] = df['Timestamp'] - df['Timestamp'].shift(periods=1, axis=0)\n",
    "df['value delta'] = df['Values'] - df['Values'].shift(periods=1, axis=0)\n",
    "\n",
    "oneday = pd.Timedelta(days=1)\n",
    "\n",
    " #converting time delta to just an hours measurement \n",
    "df['Time Delta'] = df['Time Delta']/np.timedelta64(1,'h')\n",
    "#normalizing differences\n",
    "df['tv delta'] = df['value delta']/df['Time Delta']"
   ]
  },
  {
   "cell_type": "code",
   "execution_count": 20,
   "metadata": {},
   "outputs": [
    {
     "data": {
      "text/html": [
       "<div>\n",
       "<style scoped>\n",
       "    .dataframe tbody tr th:only-of-type {\n",
       "        vertical-align: middle;\n",
       "    }\n",
       "\n",
       "    .dataframe tbody tr th {\n",
       "        vertical-align: top;\n",
       "    }\n",
       "\n",
       "    .dataframe thead th {\n",
       "        text-align: right;\n",
       "    }\n",
       "</style>\n",
       "<table border=\"1\" class=\"dataframe\">\n",
       "  <thead>\n",
       "    <tr style=\"text-align: right;\">\n",
       "      <th></th>\n",
       "      <th>Timestamp</th>\n",
       "      <th>Values</th>\n",
       "      <th>meter_description</th>\n",
       "      <th>units</th>\n",
       "      <th>activity</th>\n",
       "      <th>Temperature</th>\n",
       "      <th>Distance</th>\n",
       "      <th>holiday</th>\n",
       "      <th>Weekday</th>\n",
       "      <th>Hour</th>\n",
       "      <th>Month</th>\n",
       "      <th>Day</th>\n",
       "      <th>Time Delta</th>\n",
       "      <th>value delta</th>\n",
       "      <th>tv delta</th>\n",
       "    </tr>\n",
       "  </thead>\n",
       "  <tbody>\n",
       "    <tr>\n",
       "      <th>0</th>\n",
       "      <td>2012-01-01 01:00:00+00:00</td>\n",
       "      <td>11087284.0</td>\n",
       "      <td>other</td>\n",
       "      <td>kWh</td>\n",
       "      <td>laboratory</td>\n",
       "      <td>3.9</td>\n",
       "      <td>11.902932</td>\n",
       "      <td>1</td>\n",
       "      <td>6</td>\n",
       "      <td>1</td>\n",
       "      <td>1</td>\n",
       "      <td>1</td>\n",
       "      <td>NaN</td>\n",
       "      <td>NaN</td>\n",
       "      <td>NaN</td>\n",
       "    </tr>\n",
       "    <tr>\n",
       "      <th>563</th>\n",
       "      <td>2012-01-24 16:00:00+00:00</td>\n",
       "      <td>11183610.0</td>\n",
       "      <td>other</td>\n",
       "      <td>kWh</td>\n",
       "      <td>laboratory</td>\n",
       "      <td>9.9</td>\n",
       "      <td>11.902932</td>\n",
       "      <td>0</td>\n",
       "      <td>1</td>\n",
       "      <td>16</td>\n",
       "      <td>1</td>\n",
       "      <td>24</td>\n",
       "      <td>5.0</td>\n",
       "      <td>934.0</td>\n",
       "      <td>186.800000</td>\n",
       "    </tr>\n",
       "    <tr>\n",
       "      <th>1842</th>\n",
       "      <td>2012-03-18 01:00:00+00:00</td>\n",
       "      <td>11391625.0</td>\n",
       "      <td>other</td>\n",
       "      <td>kWh</td>\n",
       "      <td>laboratory</td>\n",
       "      <td>5.3</td>\n",
       "      <td>11.902932</td>\n",
       "      <td>0</td>\n",
       "      <td>6</td>\n",
       "      <td>1</td>\n",
       "      <td>3</td>\n",
       "      <td>18</td>\n",
       "      <td>3.0</td>\n",
       "      <td>354.0</td>\n",
       "      <td>118.000000</td>\n",
       "    </tr>\n",
       "    <tr>\n",
       "      <th>2011</th>\n",
       "      <td>2012-03-25 03:00:00+00:00</td>\n",
       "      <td>11413237.0</td>\n",
       "      <td>other</td>\n",
       "      <td>kWh</td>\n",
       "      <td>laboratory</td>\n",
       "      <td>6.8</td>\n",
       "      <td>11.902932</td>\n",
       "      <td>0</td>\n",
       "      <td>6</td>\n",
       "      <td>3</td>\n",
       "      <td>3</td>\n",
       "      <td>25</td>\n",
       "      <td>2.0</td>\n",
       "      <td>232.0</td>\n",
       "      <td>116.000000</td>\n",
       "    </tr>\n",
       "    <tr>\n",
       "      <th>2427</th>\n",
       "      <td>2012-04-11 12:00:00+00:00</td>\n",
       "      <td>11464523.0</td>\n",
       "      <td>other</td>\n",
       "      <td>kWh</td>\n",
       "      <td>laboratory</td>\n",
       "      <td>12.1</td>\n",
       "      <td>11.902932</td>\n",
       "      <td>0</td>\n",
       "      <td>2</td>\n",
       "      <td>12</td>\n",
       "      <td>4</td>\n",
       "      <td>11</td>\n",
       "      <td>2.0</td>\n",
       "      <td>237.0</td>\n",
       "      <td>118.500000</td>\n",
       "    </tr>\n",
       "    <tr>\n",
       "      <th>...</th>\n",
       "      <td>...</td>\n",
       "      <td>...</td>\n",
       "      <td>...</td>\n",
       "      <td>...</td>\n",
       "      <td>...</td>\n",
       "      <td>...</td>\n",
       "      <td>...</td>\n",
       "      <td>...</td>\n",
       "      <td>...</td>\n",
       "      <td>...</td>\n",
       "      <td>...</td>\n",
       "      <td>...</td>\n",
       "      <td>...</td>\n",
       "      <td>...</td>\n",
       "      <td>...</td>\n",
       "    </tr>\n",
       "    <tr>\n",
       "      <th>47876</th>\n",
       "      <td>2017-09-18 20:00:00+00:00</td>\n",
       "      <td>17625786.0</td>\n",
       "      <td>other</td>\n",
       "      <td>kWh</td>\n",
       "      <td>laboratory</td>\n",
       "      <td>14.2</td>\n",
       "      <td>11.902932</td>\n",
       "      <td>0</td>\n",
       "      <td>0</td>\n",
       "      <td>20</td>\n",
       "      <td>9</td>\n",
       "      <td>18</td>\n",
       "      <td>2.0</td>\n",
       "      <td>175.0</td>\n",
       "      <td>87.500000</td>\n",
       "    </tr>\n",
       "    <tr>\n",
       "      <th>47908</th>\n",
       "      <td>2017-09-20 05:00:00+00:00</td>\n",
       "      <td>17628544.0</td>\n",
       "      <td>other</td>\n",
       "      <td>kWh</td>\n",
       "      <td>laboratory</td>\n",
       "      <td>6.1</td>\n",
       "      <td>11.902932</td>\n",
       "      <td>0</td>\n",
       "      <td>2</td>\n",
       "      <td>5</td>\n",
       "      <td>9</td>\n",
       "      <td>20</td>\n",
       "      <td>2.0</td>\n",
       "      <td>160.0</td>\n",
       "      <td>80.000000</td>\n",
       "    </tr>\n",
       "    <tr>\n",
       "      <th>48131</th>\n",
       "      <td>2017-09-29 13:00:00+00:00</td>\n",
       "      <td>17651338.0</td>\n",
       "      <td>other</td>\n",
       "      <td>kWh</td>\n",
       "      <td>laboratory</td>\n",
       "      <td>21.7</td>\n",
       "      <td>11.902932</td>\n",
       "      <td>0</td>\n",
       "      <td>4</td>\n",
       "      <td>13</td>\n",
       "      <td>9</td>\n",
       "      <td>29</td>\n",
       "      <td>2.0</td>\n",
       "      <td>334.0</td>\n",
       "      <td>167.000000</td>\n",
       "    </tr>\n",
       "    <tr>\n",
       "      <th>48883</th>\n",
       "      <td>2017-10-31 07:00:00+00:00</td>\n",
       "      <td>17721054.0</td>\n",
       "      <td>other</td>\n",
       "      <td>kWh</td>\n",
       "      <td>laboratory</td>\n",
       "      <td>7.5</td>\n",
       "      <td>11.902932</td>\n",
       "      <td>0</td>\n",
       "      <td>1</td>\n",
       "      <td>7</td>\n",
       "      <td>10</td>\n",
       "      <td>31</td>\n",
       "      <td>11.0</td>\n",
       "      <td>700.0</td>\n",
       "      <td>63.636364</td>\n",
       "    </tr>\n",
       "    <tr>\n",
       "      <th>49036</th>\n",
       "      <td>2017-11-06 17:00:00+00:00</td>\n",
       "      <td>17737657.0</td>\n",
       "      <td>other</td>\n",
       "      <td>kWh</td>\n",
       "      <td>laboratory</td>\n",
       "      <td>8.2</td>\n",
       "      <td>11.902932</td>\n",
       "      <td>0</td>\n",
       "      <td>0</td>\n",
       "      <td>17</td>\n",
       "      <td>11</td>\n",
       "      <td>6</td>\n",
       "      <td>2.0</td>\n",
       "      <td>227.0</td>\n",
       "      <td>113.500000</td>\n",
       "    </tr>\n",
       "  </tbody>\n",
       "</table>\n",
       "<p>484 rows × 15 columns</p>\n",
       "</div>"
      ],
      "text/plain": [
       "                      Timestamp      Values meter_description units  \\\n",
       "0     2012-01-01 01:00:00+00:00  11087284.0             other   kWh   \n",
       "563   2012-01-24 16:00:00+00:00  11183610.0             other   kWh   \n",
       "1842  2012-03-18 01:00:00+00:00  11391625.0             other   kWh   \n",
       "2011  2012-03-25 03:00:00+00:00  11413237.0             other   kWh   \n",
       "2427  2012-04-11 12:00:00+00:00  11464523.0             other   kWh   \n",
       "...                         ...         ...               ...   ...   \n",
       "47876 2017-09-18 20:00:00+00:00  17625786.0             other   kWh   \n",
       "47908 2017-09-20 05:00:00+00:00  17628544.0             other   kWh   \n",
       "48131 2017-09-29 13:00:00+00:00  17651338.0             other   kWh   \n",
       "48883 2017-10-31 07:00:00+00:00  17721054.0             other   kWh   \n",
       "49036 2017-11-06 17:00:00+00:00  17737657.0             other   kWh   \n",
       "\n",
       "         activity  Temperature   Distance  holiday  Weekday  Hour  Month  Day  \\\n",
       "0      laboratory          3.9  11.902932        1        6     1      1    1   \n",
       "563    laboratory          9.9  11.902932        0        1    16      1   24   \n",
       "1842   laboratory          5.3  11.902932        0        6     1      3   18   \n",
       "2011   laboratory          6.8  11.902932        0        6     3      3   25   \n",
       "2427   laboratory         12.1  11.902932        0        2    12      4   11   \n",
       "...           ...          ...        ...      ...      ...   ...    ...  ...   \n",
       "47876  laboratory         14.2  11.902932        0        0    20      9   18   \n",
       "47908  laboratory          6.1  11.902932        0        2     5      9   20   \n",
       "48131  laboratory         21.7  11.902932        0        4    13      9   29   \n",
       "48883  laboratory          7.5  11.902932        0        1     7     10   31   \n",
       "49036  laboratory          8.2  11.902932        0        0    17     11    6   \n",
       "\n",
       "       Time Delta  value delta    tv delta  \n",
       "0             NaN          NaN         NaN  \n",
       "563           5.0        934.0  186.800000  \n",
       "1842          3.0        354.0  118.000000  \n",
       "2011          2.0        232.0  116.000000  \n",
       "2427          2.0        237.0  118.500000  \n",
       "...           ...          ...         ...  \n",
       "47876         2.0        175.0   87.500000  \n",
       "47908         2.0        160.0   80.000000  \n",
       "48131         2.0        334.0  167.000000  \n",
       "48883        11.0        700.0   63.636364  \n",
       "49036         2.0        227.0  113.500000  \n",
       "\n",
       "[484 rows x 15 columns]"
      ]
     },
     "execution_count": 20,
     "metadata": {},
     "output_type": "execute_result"
    }
   ],
   "source": [
    "df[df['Time Delta'] != 1.0]"
   ]
  },
  {
   "cell_type": "markdown",
   "metadata": {},
   "source": [
    "Dropping first row since it contains an NaN value for tv delta bc of differencing"
   ]
  },
  {
   "cell_type": "code",
   "execution_count": 21,
   "metadata": {},
   "outputs": [],
   "source": [
    "df = df.iloc[1:]"
   ]
  },
  {
   "cell_type": "markdown",
   "metadata": {},
   "source": [
    "Observe a clear anomaly using these new differenced values"
   ]
  },
  {
   "cell_type": "code",
   "execution_count": 22,
   "metadata": {},
   "outputs": [
    {
     "data": {
      "text/plain": [
       "<matplotlib.axes._subplots.AxesSubplot at 0x22b70458908>"
      ]
     },
     "execution_count": 22,
     "metadata": {},
     "output_type": "execute_result"
    },
    {
     "data": {
      "image/png": "[encoded data removed]",
      "text/plain": [
       "<Figure size 432x288 with 1 Axes>"
      ]
     },
     "metadata": {
      "needs_background": "light"
     },
     "output_type": "display_data"
    }
   ],
   "source": [
    "df['tv delta'].plot()"
   ]
  },
  {
   "cell_type": "markdown",
   "metadata": {},
   "source": [
    "### Feature engineering: Lagged Values\n",
    "\n",
    "- We difference the data twice to grab the two previous differenced values. \n",
    "- We then account for month and weekday seasonality by grabbing the differenced values that occurred in the previous day and the previous month. There might be a slight error here as just under 500 observations were not recorded every hour. However, we expect these values to still be a useful approximation of the month/weekday shift"
   ]
  },
  {
   "cell_type": "code",
   "execution_count": 23,
   "metadata": {},
   "outputs": [],
   "source": [
    "df['prev value'] = df['tv delta'].shift(periods=1, axis=0)"
   ]
  },
  {
   "cell_type": "code",
   "execution_count": 24,
   "metadata": {},
   "outputs": [],
   "source": [
    "df['twice prev value'] = df['tv delta'].shift(periods=2, axis=0)"
   ]
  },
  {
   "cell_type": "code",
   "execution_count": 25,
   "metadata": {},
   "outputs": [],
   "source": [
    "#accounting for month and weekday seasonality\n",
    "\n",
    "df['day shift'] = df['tv delta'].shift(periods=24, axis=0)\n",
    "df['month shift'] = df['tv delta'].shift(periods=24*30, axis=0)"
   ]
  },
  {
   "cell_type": "code",
   "execution_count": 26,
   "metadata": {},
   "outputs": [],
   "source": [
    "#Dropping rows that contain an NaN value for tv delta bc of differencing\n",
    "df.dropna(axis = 0, how='any', inplace = True)"
   ]
  },
  {
   "cell_type": "code",
   "execution_count": 27,
   "metadata": {},
   "outputs": [
    {
     "data": {
      "text/html": [
       "<div>\n",
       "<style scoped>\n",
       "    .dataframe tbody tr th:only-of-type {\n",
       "        vertical-align: middle;\n",
       "    }\n",
       "\n",
       "    .dataframe tbody tr th {\n",
       "        vertical-align: top;\n",
       "    }\n",
       "\n",
       "    .dataframe thead th {\n",
       "        text-align: right;\n",
       "    }\n",
       "</style>\n",
       "<table border=\"1\" class=\"dataframe\">\n",
       "  <thead>\n",
       "    <tr style=\"text-align: right;\">\n",
       "      <th></th>\n",
       "      <th>Timestamp</th>\n",
       "      <th>Values</th>\n",
       "      <th>meter_description</th>\n",
       "      <th>units</th>\n",
       "      <th>activity</th>\n",
       "      <th>Temperature</th>\n",
       "      <th>Distance</th>\n",
       "      <th>holiday</th>\n",
       "      <th>Weekday</th>\n",
       "      <th>Hour</th>\n",
       "      <th>Month</th>\n",
       "      <th>Day</th>\n",
       "      <th>Time Delta</th>\n",
       "      <th>value delta</th>\n",
       "      <th>tv delta</th>\n",
       "      <th>prev value</th>\n",
       "      <th>twice prev value</th>\n",
       "      <th>day shift</th>\n",
       "      <th>month shift</th>\n",
       "    </tr>\n",
       "  </thead>\n",
       "  <tbody>\n",
       "    <tr>\n",
       "      <th>721</th>\n",
       "      <td>2012-01-31 06:00:00+00:00</td>\n",
       "      <td>11213381.0</td>\n",
       "      <td>other</td>\n",
       "      <td>kWh</td>\n",
       "      <td>laboratory</td>\n",
       "      <td>0.3</td>\n",
       "      <td>11.902932</td>\n",
       "      <td>0</td>\n",
       "      <td>1</td>\n",
       "      <td>6</td>\n",
       "      <td>1</td>\n",
       "      <td>31</td>\n",
       "      <td>1.0</td>\n",
       "      <td>224.0</td>\n",
       "      <td>224.0</td>\n",
       "      <td>203.0</td>\n",
       "      <td>215.0</td>\n",
       "      <td>205.0</td>\n",
       "      <td>97.0</td>\n",
       "    </tr>\n",
       "    <tr>\n",
       "      <th>722</th>\n",
       "      <td>2012-01-31 07:00:00+00:00</td>\n",
       "      <td>11213635.0</td>\n",
       "      <td>other</td>\n",
       "      <td>kWh</td>\n",
       "      <td>laboratory</td>\n",
       "      <td>0.2</td>\n",
       "      <td>11.902932</td>\n",
       "      <td>0</td>\n",
       "      <td>1</td>\n",
       "      <td>7</td>\n",
       "      <td>1</td>\n",
       "      <td>31</td>\n",
       "      <td>1.0</td>\n",
       "      <td>254.0</td>\n",
       "      <td>254.0</td>\n",
       "      <td>224.0</td>\n",
       "      <td>203.0</td>\n",
       "      <td>242.0</td>\n",
       "      <td>107.0</td>\n",
       "    </tr>\n",
       "    <tr>\n",
       "      <th>723</th>\n",
       "      <td>2012-01-31 08:00:00+00:00</td>\n",
       "      <td>11213893.0</td>\n",
       "      <td>other</td>\n",
       "      <td>kWh</td>\n",
       "      <td>laboratory</td>\n",
       "      <td>0.2</td>\n",
       "      <td>11.902932</td>\n",
       "      <td>0</td>\n",
       "      <td>1</td>\n",
       "      <td>8</td>\n",
       "      <td>1</td>\n",
       "      <td>31</td>\n",
       "      <td>1.0</td>\n",
       "      <td>258.0</td>\n",
       "      <td>258.0</td>\n",
       "      <td>254.0</td>\n",
       "      <td>224.0</td>\n",
       "      <td>248.0</td>\n",
       "      <td>106.0</td>\n",
       "    </tr>\n",
       "    <tr>\n",
       "      <th>724</th>\n",
       "      <td>2012-01-31 09:00:00+00:00</td>\n",
       "      <td>11214154.0</td>\n",
       "      <td>other</td>\n",
       "      <td>kWh</td>\n",
       "      <td>laboratory</td>\n",
       "      <td>0.2</td>\n",
       "      <td>11.902932</td>\n",
       "      <td>0</td>\n",
       "      <td>1</td>\n",
       "      <td>9</td>\n",
       "      <td>1</td>\n",
       "      <td>31</td>\n",
       "      <td>1.0</td>\n",
       "      <td>261.0</td>\n",
       "      <td>261.0</td>\n",
       "      <td>258.0</td>\n",
       "      <td>254.0</td>\n",
       "      <td>242.0</td>\n",
       "      <td>95.0</td>\n",
       "    </tr>\n",
       "    <tr>\n",
       "      <th>725</th>\n",
       "      <td>2012-01-31 10:00:00+00:00</td>\n",
       "      <td>11214422.0</td>\n",
       "      <td>other</td>\n",
       "      <td>kWh</td>\n",
       "      <td>laboratory</td>\n",
       "      <td>0.4</td>\n",
       "      <td>11.902932</td>\n",
       "      <td>0</td>\n",
       "      <td>1</td>\n",
       "      <td>10</td>\n",
       "      <td>1</td>\n",
       "      <td>31</td>\n",
       "      <td>1.0</td>\n",
       "      <td>268.0</td>\n",
       "      <td>268.0</td>\n",
       "      <td>261.0</td>\n",
       "      <td>258.0</td>\n",
       "      <td>234.0</td>\n",
       "      <td>103.0</td>\n",
       "    </tr>\n",
       "  </tbody>\n",
       "</table>\n",
       "</div>"
      ],
      "text/plain": [
       "                    Timestamp      Values meter_description units    activity  \\\n",
       "721 2012-01-31 06:00:00+00:00  11213381.0             other   kWh  laboratory   \n",
       "722 2012-01-31 07:00:00+00:00  11213635.0             other   kWh  laboratory   \n",
       "723 2012-01-31 08:00:00+00:00  11213893.0             other   kWh  laboratory   \n",
       "724 2012-01-31 09:00:00+00:00  11214154.0             other   kWh  laboratory   \n",
       "725 2012-01-31 10:00:00+00:00  11214422.0             other   kWh  laboratory   \n",
       "\n",
       "     Temperature   Distance  holiday  Weekday  Hour  Month  Day  Time Delta  \\\n",
       "721          0.3  11.902932        0        1     6      1   31         1.0   \n",
       "722          0.2  11.902932        0        1     7      1   31         1.0   \n",
       "723          0.2  11.902932        0        1     8      1   31         1.0   \n",
       "724          0.2  11.902932        0        1     9      1   31         1.0   \n",
       "725          0.4  11.902932        0        1    10      1   31         1.0   \n",
       "\n",
       "     value delta  tv delta  prev value  twice prev value  day shift  \\\n",
       "721        224.0     224.0       203.0             215.0      205.0   \n",
       "722        254.0     254.0       224.0             203.0      242.0   \n",
       "723        258.0     258.0       254.0             224.0      248.0   \n",
       "724        261.0     261.0       258.0             254.0      242.0   \n",
       "725        268.0     268.0       261.0             258.0      234.0   \n",
       "\n",
       "     month shift  \n",
       "721         97.0  \n",
       "722        107.0  \n",
       "723        106.0  \n",
       "724         95.0  \n",
       "725        103.0  "
      ]
     },
     "execution_count": 27,
     "metadata": {},
     "output_type": "execute_result"
    }
   ],
   "source": [
    "df.head()"
   ]
  },
  {
   "cell_type": "markdown",
   "metadata": {},
   "source": [
    "Activity and meter description only have one value, we will drop these. "
   ]
  },
  {
   "cell_type": "code",
   "execution_count": 28,
   "metadata": {},
   "outputs": [
    {
     "data": {
      "text/plain": [
       "laboratory    49003\n",
       "Name: activity, dtype: int64"
      ]
     },
     "execution_count": 28,
     "metadata": {},
     "output_type": "execute_result"
    }
   ],
   "source": [
    "df['activity'].value_counts()"
   ]
  },
  {
   "cell_type": "code",
   "execution_count": 29,
   "metadata": {},
   "outputs": [
    {
     "data": {
      "text/plain": [
       "other    49003\n",
       "Name: meter_description, dtype: int64"
      ]
     },
     "execution_count": 29,
     "metadata": {},
     "output_type": "execute_result"
    }
   ],
   "source": [
    "df['meter_description'].value_counts()"
   ]
  },
  {
   "cell_type": "markdown",
   "metadata": {},
   "source": [
    "Dropping Irrelevant Columns:\n",
    "\n",
    "- Distance contains information on how far the weather station is from the meter. We are only looking into one meter so we it is the same value for every observation. \n",
    "\n",
    "- We accounted for the differing units so this column is irrelevant now. "
   ]
  },
  {
   "cell_type": "code",
   "execution_count": 30,
   "metadata": {},
   "outputs": [],
   "source": [
    "df.drop(['Distance','units','activity','meter_description'], axis = 1, inplace=True)"
   ]
  },
  {
   "cell_type": "code",
   "execution_count": 31,
   "metadata": {},
   "outputs": [
    {
     "data": {
      "text/html": [
       "<div>\n",
       "<style scoped>\n",
       "    .dataframe tbody tr th:only-of-type {\n",
       "        vertical-align: middle;\n",
       "    }\n",
       "\n",
       "    .dataframe tbody tr th {\n",
       "        vertical-align: top;\n",
       "    }\n",
       "\n",
       "    .dataframe thead th {\n",
       "        text-align: right;\n",
       "    }\n",
       "</style>\n",
       "<table border=\"1\" class=\"dataframe\">\n",
       "  <thead>\n",
       "    <tr style=\"text-align: right;\">\n",
       "      <th></th>\n",
       "      <th>Timestamp</th>\n",
       "      <th>Values</th>\n",
       "      <th>Temperature</th>\n",
       "      <th>holiday</th>\n",
       "      <th>Weekday</th>\n",
       "      <th>Hour</th>\n",
       "      <th>Month</th>\n",
       "      <th>Day</th>\n",
       "      <th>Time Delta</th>\n",
       "      <th>value delta</th>\n",
       "      <th>tv delta</th>\n",
       "      <th>prev value</th>\n",
       "      <th>twice prev value</th>\n",
       "      <th>day shift</th>\n",
       "      <th>month shift</th>\n",
       "    </tr>\n",
       "  </thead>\n",
       "  <tbody>\n",
       "    <tr>\n",
       "      <th>721</th>\n",
       "      <td>2012-01-31 06:00:00+00:00</td>\n",
       "      <td>11213381.0</td>\n",
       "      <td>0.3</td>\n",
       "      <td>0</td>\n",
       "      <td>1</td>\n",
       "      <td>6</td>\n",
       "      <td>1</td>\n",
       "      <td>31</td>\n",
       "      <td>1.0</td>\n",
       "      <td>224.0</td>\n",
       "      <td>224.0</td>\n",
       "      <td>203.0</td>\n",
       "      <td>215.0</td>\n",
       "      <td>205.0</td>\n",
       "      <td>97.0</td>\n",
       "    </tr>\n",
       "    <tr>\n",
       "      <th>722</th>\n",
       "      <td>2012-01-31 07:00:00+00:00</td>\n",
       "      <td>11213635.0</td>\n",
       "      <td>0.2</td>\n",
       "      <td>0</td>\n",
       "      <td>1</td>\n",
       "      <td>7</td>\n",
       "      <td>1</td>\n",
       "      <td>31</td>\n",
       "      <td>1.0</td>\n",
       "      <td>254.0</td>\n",
       "      <td>254.0</td>\n",
       "      <td>224.0</td>\n",
       "      <td>203.0</td>\n",
       "      <td>242.0</td>\n",
       "      <td>107.0</td>\n",
       "    </tr>\n",
       "    <tr>\n",
       "      <th>723</th>\n",
       "      <td>2012-01-31 08:00:00+00:00</td>\n",
       "      <td>11213893.0</td>\n",
       "      <td>0.2</td>\n",
       "      <td>0</td>\n",
       "      <td>1</td>\n",
       "      <td>8</td>\n",
       "      <td>1</td>\n",
       "      <td>31</td>\n",
       "      <td>1.0</td>\n",
       "      <td>258.0</td>\n",
       "      <td>258.0</td>\n",
       "      <td>254.0</td>\n",
       "      <td>224.0</td>\n",
       "      <td>248.0</td>\n",
       "      <td>106.0</td>\n",
       "    </tr>\n",
       "    <tr>\n",
       "      <th>724</th>\n",
       "      <td>2012-01-31 09:00:00+00:00</td>\n",
       "      <td>11214154.0</td>\n",
       "      <td>0.2</td>\n",
       "      <td>0</td>\n",
       "      <td>1</td>\n",
       "      <td>9</td>\n",
       "      <td>1</td>\n",
       "      <td>31</td>\n",
       "      <td>1.0</td>\n",
       "      <td>261.0</td>\n",
       "      <td>261.0</td>\n",
       "      <td>258.0</td>\n",
       "      <td>254.0</td>\n",
       "      <td>242.0</td>\n",
       "      <td>95.0</td>\n",
       "    </tr>\n",
       "    <tr>\n",
       "      <th>725</th>\n",
       "      <td>2012-01-31 10:00:00+00:00</td>\n",
       "      <td>11214422.0</td>\n",
       "      <td>0.4</td>\n",
       "      <td>0</td>\n",
       "      <td>1</td>\n",
       "      <td>10</td>\n",
       "      <td>1</td>\n",
       "      <td>31</td>\n",
       "      <td>1.0</td>\n",
       "      <td>268.0</td>\n",
       "      <td>268.0</td>\n",
       "      <td>261.0</td>\n",
       "      <td>258.0</td>\n",
       "      <td>234.0</td>\n",
       "      <td>103.0</td>\n",
       "    </tr>\n",
       "  </tbody>\n",
       "</table>\n",
       "</div>"
      ],
      "text/plain": [
       "                    Timestamp      Values  Temperature  holiday  Weekday  \\\n",
       "721 2012-01-31 06:00:00+00:00  11213381.0          0.3        0        1   \n",
       "722 2012-01-31 07:00:00+00:00  11213635.0          0.2        0        1   \n",
       "723 2012-01-31 08:00:00+00:00  11213893.0          0.2        0        1   \n",
       "724 2012-01-31 09:00:00+00:00  11214154.0          0.2        0        1   \n",
       "725 2012-01-31 10:00:00+00:00  11214422.0          0.4        0        1   \n",
       "\n",
       "     Hour  Month  Day  Time Delta  value delta  tv delta  prev value  \\\n",
       "721     6      1   31         1.0        224.0     224.0       203.0   \n",
       "722     7      1   31         1.0        254.0     254.0       224.0   \n",
       "723     8      1   31         1.0        258.0     258.0       254.0   \n",
       "724     9      1   31         1.0        261.0     261.0       258.0   \n",
       "725    10      1   31         1.0        268.0     268.0       261.0   \n",
       "\n",
       "     twice prev value  day shift  month shift  \n",
       "721             215.0      205.0         97.0  \n",
       "722             203.0      242.0        107.0  \n",
       "723             224.0      248.0        106.0  \n",
       "724             254.0      242.0         95.0  \n",
       "725             258.0      234.0        103.0  "
      ]
     },
     "execution_count": 31,
     "metadata": {},
     "output_type": "execute_result"
    }
   ],
   "source": [
    "df.head()"
   ]
  },
  {
   "cell_type": "markdown",
   "metadata": {},
   "source": [
    "### Splitting into test and train by year. Our train set will contain years 2012-2015 and our test set will contain years 2016-2017\n",
    "\n",
    "Train dataset contains 33,893 observations. Test contains 15,828"
   ]
  },
  {
   "cell_type": "code",
   "execution_count": 32,
   "metadata": {},
   "outputs": [],
   "source": [
    "#grabbing year\n",
    "def year(df):\n",
    "    df['year'] = df['Timestamp'].dt.year\n",
    "    return df\n",
    "\n",
    "df = year(df)"
   ]
  },
  {
   "cell_type": "code",
   "execution_count": 33,
   "metadata": {},
   "outputs": [],
   "source": [
    "#only selecting years 2012-2015 for training set\n",
    "years = [2012,2013,2014,2015]\n",
    "train = df[df.year.isin(years)]\n",
    "\n",
    "#selecting 2016,2017 for test set\n",
    "years1 = [2016,2017]\n",
    "test= df[df.year.isin(years1)]"
   ]
  },
  {
   "cell_type": "code",
   "execution_count": 34,
   "metadata": {},
   "outputs": [
    {
     "data": {
      "text/plain": [
       "33175"
      ]
     },
     "execution_count": 34,
     "metadata": {},
     "output_type": "execute_result"
    }
   ],
   "source": [
    "len(train)"
   ]
  },
  {
   "cell_type": "code",
   "execution_count": 35,
   "metadata": {},
   "outputs": [
    {
     "data": {
      "text/plain": [
       "15828"
      ]
     },
     "execution_count": 35,
     "metadata": {},
     "output_type": "execute_result"
    }
   ],
   "source": [
    "len(test)"
   ]
  },
  {
   "cell_type": "markdown",
   "metadata": {},
   "source": [
    "### Looking into outliers"
   ]
  },
  {
   "cell_type": "code",
   "execution_count": 36,
   "metadata": {},
   "outputs": [],
   "source": [
    "# Function to Detection Outlier on one-dimentional datasets.\n",
    "def find_anomalies(data):\n",
    "    \n",
    "    #define a list to accumlate anomalies\n",
    "    anomalies = []\n",
    "    \n",
    "    # Set upper and lower limit to 3 standard deviation\n",
    "    data_std = np.std(data)\n",
    "    data_mean = np.mean(data)\n",
    "    anomaly_cut_off = data_std * 3\n",
    "    \n",
    "    lower_limit  = data_mean - anomaly_cut_off \n",
    "    upper_limit = data_mean + anomaly_cut_off\n",
    "    \n",
    "    # Generate outliers\n",
    "    for outlier in data:\n",
    "        if outlier > upper_limit or outlier < lower_limit:\n",
    "            anomalies.append(outlier)\n",
    "    return anomalies"
   ]
  },
  {
   "cell_type": "markdown",
   "metadata": {},
   "source": [
    "Temperature contains 2 outliers values however this is small in comparison so the number of observations in our dataset and will not yield much influence over our model. We will ignore this for now. \n",
    "\n",
    "There are no outliers in the Value column but are many in the differenced value (this further confirms our method to take differenced amounts). Many of these values are around 300, indicating they are anomolies. There are two outliers around +/- 5000. Let's look into these\n",
    "\n"
   ]
  },
  {
   "cell_type": "code",
   "execution_count": 37,
   "metadata": {},
   "outputs": [
    {
     "name": "stdout",
     "output_type": "stream",
     "text": [
      "Measurement value outliers: []\n",
      "Differenced value outliers: [5095.0, -5095.0, 333.0, 358.0, 369.0, 346.0, 345.0, 329.0, 392.0, 346.0, 373.0, 366.0, 356.0, 331.0, 364.0, 331.0, 340.0, 359.0, 371.0, 383.0, 356.0, 328.0, 328.0, 336.0, 333.0, 342.0, 345.0, 332.0, 341.0, 336.0, 338.0, 348.0, 357.0, 356.0, 371.0, 359.0, 351.0, 336.0, 347.0, 353.0, 364.0, 368.0, 360.0, 337.0, 334.0, 336.0, 339.0, 340.0, 348.0, 345.0, 344.0, 345.0, 344.0, 347.0, 335.0, 330.0, 344.0, 358.0, 359.0, 349.0, 336.0, 344.0, 330.0, 354.0, 371.0, 371.0, 348.0, 358.0, 369.0, 388.0, 425.0, 419.0, 364.0, 331.0, 355.0, 363.0, 371.0, 378.0, 390.0, 373.0, 355.0, 345.0, 377.0, 412.0, 392.0, 392.0, 386.0, 360.0, 333.0, 331.0, 350.0, 354.0, 362.0, 373.0, 366.0, 341.0, 331.0, 342.0, 336.0, 334.0, 359.0, 366.0, 331.0, 341.0, 340.0, 338.0, 334.0, 333.0, 349.0, 335.0, 350.0, 357.0, 387.0, 371.0, 356.0, 333.5, 334.0, 338.0, 338.0, 334.0, 333.0, 349.0, 354.0, 341.0, 362.0, 361.0, 364.0, 328.0, 335.0, 334.0, 329.0, 351.0, 335.0, 340.0, 392.0, 383.0, 407.0, 387.0, 375.0, 357.0, 328.0, 346.0, 396.0, 355.0, 337.0, 342.0, 357.0, 379.0, 356.0, 376.0, 355.0, 329.0, 386.0, 330.0, 358.0, 352.0, 359.0, 328.0]\n",
      "Temp outliers: [37.7, 37.7]\n"
     ]
    }
   ],
   "source": [
    "print('Measurement value outliers:', find_anomalies(train['Values']))\n",
    "print('Differenced value outliers:', find_anomalies(train['tv delta']))\n",
    "print('Temp outliers:', find_anomalies(train['Temperature']))"
   ]
  },
  {
   "cell_type": "markdown",
   "metadata": {},
   "source": [
    "Looking into these values"
   ]
  },
  {
   "cell_type": "code",
   "execution_count": 38,
   "metadata": {},
   "outputs": [
    {
     "data": {
      "text/html": [
       "<div>\n",
       "<style scoped>\n",
       "    .dataframe tbody tr th:only-of-type {\n",
       "        vertical-align: middle;\n",
       "    }\n",
       "\n",
       "    .dataframe tbody tr th {\n",
       "        vertical-align: top;\n",
       "    }\n",
       "\n",
       "    .dataframe thead th {\n",
       "        text-align: right;\n",
       "    }\n",
       "</style>\n",
       "<table border=\"1\" class=\"dataframe\">\n",
       "  <thead>\n",
       "    <tr style=\"text-align: right;\">\n",
       "      <th></th>\n",
       "      <th>Timestamp</th>\n",
       "      <th>Values</th>\n",
       "      <th>Temperature</th>\n",
       "      <th>holiday</th>\n",
       "      <th>Weekday</th>\n",
       "      <th>Hour</th>\n",
       "      <th>Month</th>\n",
       "      <th>Day</th>\n",
       "      <th>Time Delta</th>\n",
       "      <th>value delta</th>\n",
       "      <th>tv delta</th>\n",
       "      <th>prev value</th>\n",
       "      <th>twice prev value</th>\n",
       "      <th>day shift</th>\n",
       "      <th>month shift</th>\n",
       "      <th>year</th>\n",
       "    </tr>\n",
       "  </thead>\n",
       "  <tbody>\n",
       "    <tr>\n",
       "      <th>5407</th>\n",
       "      <td>2012-08-20 09:00:00+00:00</td>\n",
       "      <td>11916652.0</td>\n",
       "      <td>22.1</td>\n",
       "      <td>0</td>\n",
       "      <td>0</td>\n",
       "      <td>9</td>\n",
       "      <td>8</td>\n",
       "      <td>20</td>\n",
       "      <td>1.0</td>\n",
       "      <td>5095.0</td>\n",
       "      <td>5095.0</td>\n",
       "      <td>0.0</td>\n",
       "      <td>0.0</td>\n",
       "      <td>132.0</td>\n",
       "      <td>113.0</td>\n",
       "      <td>2012</td>\n",
       "    </tr>\n",
       "    <tr>\n",
       "      <th>5408</th>\n",
       "      <td>2012-08-20 10:00:00+00:00</td>\n",
       "      <td>11911557.0</td>\n",
       "      <td>24.8</td>\n",
       "      <td>0</td>\n",
       "      <td>0</td>\n",
       "      <td>10</td>\n",
       "      <td>8</td>\n",
       "      <td>20</td>\n",
       "      <td>1.0</td>\n",
       "      <td>-5095.0</td>\n",
       "      <td>-5095.0</td>\n",
       "      <td>5095.0</td>\n",
       "      <td>0.0</td>\n",
       "      <td>132.0</td>\n",
       "      <td>124.0</td>\n",
       "      <td>2012</td>\n",
       "    </tr>\n",
       "  </tbody>\n",
       "</table>\n",
       "</div>"
      ],
      "text/plain": [
       "                     Timestamp      Values  Temperature  holiday  Weekday  \\\n",
       "5407 2012-08-20 09:00:00+00:00  11916652.0         22.1        0        0   \n",
       "5408 2012-08-20 10:00:00+00:00  11911557.0         24.8        0        0   \n",
       "\n",
       "      Hour  Month  Day  Time Delta  value delta  tv delta  prev value  \\\n",
       "5407     9      8   20         1.0       5095.0    5095.0         0.0   \n",
       "5408    10      8   20         1.0      -5095.0   -5095.0      5095.0   \n",
       "\n",
       "      twice prev value  day shift  month shift  year  \n",
       "5407               0.0      132.0        113.0  2012  \n",
       "5408               0.0      132.0        124.0  2012  "
      ]
     },
     "execution_count": 38,
     "metadata": {},
     "output_type": "execute_result"
    }
   ],
   "source": [
    "df[abs(df['tv delta']) == 5095.0]"
   ]
  },
  {
   "cell_type": "markdown",
   "metadata": {},
   "source": [
    "We think it's safe to assume this is a data input error. We will remove these 2 rows from our dataset. "
   ]
  },
  {
   "cell_type": "code",
   "execution_count": 40,
   "metadata": {},
   "outputs": [],
   "source": [
    "train_no_outliers = train[train['Timestamp'] != '2012-08-20 09:00:00+00:00']\n",
    "train_no_outliers = train_no_outliers[train_no_outliers['Timestamp'] != '2012-08-20 10:00:00+00:00']"
   ]
  },
  {
   "cell_type": "code",
   "execution_count": 41,
   "metadata": {},
   "outputs": [],
   "source": [
    "train = train_no_outliers"
   ]
  },
  {
   "cell_type": "markdown",
   "metadata": {},
   "source": [
    "#### Finalizing datasets"
   ]
  },
  {
   "cell_type": "code",
   "execution_count": 42,
   "metadata": {},
   "outputs": [
    {
     "data": {
      "text/html": [
       "<div>\n",
       "<style scoped>\n",
       "    .dataframe tbody tr th:only-of-type {\n",
       "        vertical-align: middle;\n",
       "    }\n",
       "\n",
       "    .dataframe tbody tr th {\n",
       "        vertical-align: top;\n",
       "    }\n",
       "\n",
       "    .dataframe thead th {\n",
       "        text-align: right;\n",
       "    }\n",
       "</style>\n",
       "<table border=\"1\" class=\"dataframe\">\n",
       "  <thead>\n",
       "    <tr style=\"text-align: right;\">\n",
       "      <th></th>\n",
       "      <th>Timestamp</th>\n",
       "      <th>Values</th>\n",
       "      <th>Temperature</th>\n",
       "      <th>holiday</th>\n",
       "      <th>Weekday</th>\n",
       "      <th>Hour</th>\n",
       "      <th>Month</th>\n",
       "      <th>Day</th>\n",
       "      <th>Time Delta</th>\n",
       "      <th>value delta</th>\n",
       "      <th>tv delta</th>\n",
       "      <th>prev value</th>\n",
       "      <th>twice prev value</th>\n",
       "      <th>day shift</th>\n",
       "      <th>month shift</th>\n",
       "      <th>year</th>\n",
       "    </tr>\n",
       "  </thead>\n",
       "  <tbody>\n",
       "    <tr>\n",
       "      <th>721</th>\n",
       "      <td>2012-01-31 06:00:00+00:00</td>\n",
       "      <td>11213381.0</td>\n",
       "      <td>0.3</td>\n",
       "      <td>0</td>\n",
       "      <td>1</td>\n",
       "      <td>6</td>\n",
       "      <td>1</td>\n",
       "      <td>31</td>\n",
       "      <td>1.0</td>\n",
       "      <td>224.0</td>\n",
       "      <td>224.0</td>\n",
       "      <td>203.0</td>\n",
       "      <td>215.0</td>\n",
       "      <td>205.0</td>\n",
       "      <td>97.0</td>\n",
       "      <td>2012</td>\n",
       "    </tr>\n",
       "    <tr>\n",
       "      <th>722</th>\n",
       "      <td>2012-01-31 07:00:00+00:00</td>\n",
       "      <td>11213635.0</td>\n",
       "      <td>0.2</td>\n",
       "      <td>0</td>\n",
       "      <td>1</td>\n",
       "      <td>7</td>\n",
       "      <td>1</td>\n",
       "      <td>31</td>\n",
       "      <td>1.0</td>\n",
       "      <td>254.0</td>\n",
       "      <td>254.0</td>\n",
       "      <td>224.0</td>\n",
       "      <td>203.0</td>\n",
       "      <td>242.0</td>\n",
       "      <td>107.0</td>\n",
       "      <td>2012</td>\n",
       "    </tr>\n",
       "    <tr>\n",
       "      <th>723</th>\n",
       "      <td>2012-01-31 08:00:00+00:00</td>\n",
       "      <td>11213893.0</td>\n",
       "      <td>0.2</td>\n",
       "      <td>0</td>\n",
       "      <td>1</td>\n",
       "      <td>8</td>\n",
       "      <td>1</td>\n",
       "      <td>31</td>\n",
       "      <td>1.0</td>\n",
       "      <td>258.0</td>\n",
       "      <td>258.0</td>\n",
       "      <td>254.0</td>\n",
       "      <td>224.0</td>\n",
       "      <td>248.0</td>\n",
       "      <td>106.0</td>\n",
       "      <td>2012</td>\n",
       "    </tr>\n",
       "    <tr>\n",
       "      <th>724</th>\n",
       "      <td>2012-01-31 09:00:00+00:00</td>\n",
       "      <td>11214154.0</td>\n",
       "      <td>0.2</td>\n",
       "      <td>0</td>\n",
       "      <td>1</td>\n",
       "      <td>9</td>\n",
       "      <td>1</td>\n",
       "      <td>31</td>\n",
       "      <td>1.0</td>\n",
       "      <td>261.0</td>\n",
       "      <td>261.0</td>\n",
       "      <td>258.0</td>\n",
       "      <td>254.0</td>\n",
       "      <td>242.0</td>\n",
       "      <td>95.0</td>\n",
       "      <td>2012</td>\n",
       "    </tr>\n",
       "    <tr>\n",
       "      <th>725</th>\n",
       "      <td>2012-01-31 10:00:00+00:00</td>\n",
       "      <td>11214422.0</td>\n",
       "      <td>0.4</td>\n",
       "      <td>0</td>\n",
       "      <td>1</td>\n",
       "      <td>10</td>\n",
       "      <td>1</td>\n",
       "      <td>31</td>\n",
       "      <td>1.0</td>\n",
       "      <td>268.0</td>\n",
       "      <td>268.0</td>\n",
       "      <td>261.0</td>\n",
       "      <td>258.0</td>\n",
       "      <td>234.0</td>\n",
       "      <td>103.0</td>\n",
       "      <td>2012</td>\n",
       "    </tr>\n",
       "  </tbody>\n",
       "</table>\n",
       "</div>"
      ],
      "text/plain": [
       "                    Timestamp      Values  Temperature  holiday  Weekday  \\\n",
       "721 2012-01-31 06:00:00+00:00  11213381.0          0.3        0        1   \n",
       "722 2012-01-31 07:00:00+00:00  11213635.0          0.2        0        1   \n",
       "723 2012-01-31 08:00:00+00:00  11213893.0          0.2        0        1   \n",
       "724 2012-01-31 09:00:00+00:00  11214154.0          0.2        0        1   \n",
       "725 2012-01-31 10:00:00+00:00  11214422.0          0.4        0        1   \n",
       "\n",
       "     Hour  Month  Day  Time Delta  value delta  tv delta  prev value  \\\n",
       "721     6      1   31         1.0        224.0     224.0       203.0   \n",
       "722     7      1   31         1.0        254.0     254.0       224.0   \n",
       "723     8      1   31         1.0        258.0     258.0       254.0   \n",
       "724     9      1   31         1.0        261.0     261.0       258.0   \n",
       "725    10      1   31         1.0        268.0     268.0       261.0   \n",
       "\n",
       "     twice prev value  day shift  month shift  year  \n",
       "721             215.0      205.0         97.0  2012  \n",
       "722             203.0      242.0        107.0  2012  \n",
       "723             224.0      248.0        106.0  2012  \n",
       "724             254.0      242.0         95.0  2012  \n",
       "725             258.0      234.0        103.0  2012  "
      ]
     },
     "execution_count": 42,
     "metadata": {},
     "output_type": "execute_result"
    }
   ],
   "source": [
    "train.head()"
   ]
  },
  {
   "cell_type": "code",
   "execution_count": 43,
   "metadata": {},
   "outputs": [
    {
     "data": {
      "text/html": [
       "<div>\n",
       "<style scoped>\n",
       "    .dataframe tbody tr th:only-of-type {\n",
       "        vertical-align: middle;\n",
       "    }\n",
       "\n",
       "    .dataframe tbody tr th {\n",
       "        vertical-align: top;\n",
       "    }\n",
       "\n",
       "    .dataframe thead th {\n",
       "        text-align: right;\n",
       "    }\n",
       "</style>\n",
       "<table border=\"1\" class=\"dataframe\">\n",
       "  <thead>\n",
       "    <tr style=\"text-align: right;\">\n",
       "      <th></th>\n",
       "      <th>Timestamp</th>\n",
       "      <th>Values</th>\n",
       "      <th>Temperature</th>\n",
       "      <th>holiday</th>\n",
       "      <th>Weekday</th>\n",
       "      <th>Hour</th>\n",
       "      <th>Month</th>\n",
       "      <th>Day</th>\n",
       "      <th>Time Delta</th>\n",
       "      <th>value delta</th>\n",
       "      <th>tv delta</th>\n",
       "      <th>prev value</th>\n",
       "      <th>twice prev value</th>\n",
       "      <th>day shift</th>\n",
       "      <th>month shift</th>\n",
       "      <th>year</th>\n",
       "    </tr>\n",
       "  </thead>\n",
       "  <tbody>\n",
       "    <tr>\n",
       "      <th>33896</th>\n",
       "      <td>2016-01-01 00:00:00+00:00</td>\n",
       "      <td>15838241.0</td>\n",
       "      <td>5.0</td>\n",
       "      <td>1</td>\n",
       "      <td>4</td>\n",
       "      <td>0</td>\n",
       "      <td>1</td>\n",
       "      <td>1</td>\n",
       "      <td>1.0</td>\n",
       "      <td>41.0</td>\n",
       "      <td>41.0</td>\n",
       "      <td>29.0</td>\n",
       "      <td>41.0</td>\n",
       "      <td>19.0</td>\n",
       "      <td>123.0</td>\n",
       "      <td>2016</td>\n",
       "    </tr>\n",
       "    <tr>\n",
       "      <th>33897</th>\n",
       "      <td>2016-01-01 01:00:00+00:00</td>\n",
       "      <td>15838284.0</td>\n",
       "      <td>5.0</td>\n",
       "      <td>1</td>\n",
       "      <td>4</td>\n",
       "      <td>1</td>\n",
       "      <td>1</td>\n",
       "      <td>1</td>\n",
       "      <td>1.0</td>\n",
       "      <td>43.0</td>\n",
       "      <td>43.0</td>\n",
       "      <td>41.0</td>\n",
       "      <td>29.0</td>\n",
       "      <td>19.0</td>\n",
       "      <td>125.0</td>\n",
       "      <td>2016</td>\n",
       "    </tr>\n",
       "    <tr>\n",
       "      <th>33898</th>\n",
       "      <td>2016-01-01 02:00:00+00:00</td>\n",
       "      <td>15838314.0</td>\n",
       "      <td>5.0</td>\n",
       "      <td>1</td>\n",
       "      <td>4</td>\n",
       "      <td>2</td>\n",
       "      <td>1</td>\n",
       "      <td>1</td>\n",
       "      <td>1.0</td>\n",
       "      <td>30.0</td>\n",
       "      <td>30.0</td>\n",
       "      <td>43.0</td>\n",
       "      <td>41.0</td>\n",
       "      <td>19.0</td>\n",
       "      <td>121.0</td>\n",
       "      <td>2016</td>\n",
       "    </tr>\n",
       "    <tr>\n",
       "      <th>33899</th>\n",
       "      <td>2016-01-01 03:00:00+00:00</td>\n",
       "      <td>15838356.0</td>\n",
       "      <td>5.2</td>\n",
       "      <td>1</td>\n",
       "      <td>4</td>\n",
       "      <td>3</td>\n",
       "      <td>1</td>\n",
       "      <td>1</td>\n",
       "      <td>1.0</td>\n",
       "      <td>42.0</td>\n",
       "      <td>42.0</td>\n",
       "      <td>30.0</td>\n",
       "      <td>43.0</td>\n",
       "      <td>18.0</td>\n",
       "      <td>117.0</td>\n",
       "      <td>2016</td>\n",
       "    </tr>\n",
       "    <tr>\n",
       "      <th>33900</th>\n",
       "      <td>2016-01-01 04:00:00+00:00</td>\n",
       "      <td>15838399.0</td>\n",
       "      <td>5.2</td>\n",
       "      <td>1</td>\n",
       "      <td>4</td>\n",
       "      <td>4</td>\n",
       "      <td>1</td>\n",
       "      <td>1</td>\n",
       "      <td>1.0</td>\n",
       "      <td>43.0</td>\n",
       "      <td>43.0</td>\n",
       "      <td>42.0</td>\n",
       "      <td>30.0</td>\n",
       "      <td>20.0</td>\n",
       "      <td>130.0</td>\n",
       "      <td>2016</td>\n",
       "    </tr>\n",
       "  </tbody>\n",
       "</table>\n",
       "</div>"
      ],
      "text/plain": [
       "                      Timestamp      Values  Temperature  holiday  Weekday  \\\n",
       "33896 2016-01-01 00:00:00+00:00  15838241.0          5.0        1        4   \n",
       "33897 2016-01-01 01:00:00+00:00  15838284.0          5.0        1        4   \n",
       "33898 2016-01-01 02:00:00+00:00  15838314.0          5.0        1        4   \n",
       "33899 2016-01-01 03:00:00+00:00  15838356.0          5.2        1        4   \n",
       "33900 2016-01-01 04:00:00+00:00  15838399.0          5.2        1        4   \n",
       "\n",
       "       Hour  Month  Day  Time Delta  value delta  tv delta  prev value  \\\n",
       "33896     0      1    1         1.0         41.0      41.0        29.0   \n",
       "33897     1      1    1         1.0         43.0      43.0        41.0   \n",
       "33898     2      1    1         1.0         30.0      30.0        43.0   \n",
       "33899     3      1    1         1.0         42.0      42.0        30.0   \n",
       "33900     4      1    1         1.0         43.0      43.0        42.0   \n",
       "\n",
       "       twice prev value  day shift  month shift  year  \n",
       "33896              41.0       19.0        123.0  2016  \n",
       "33897              29.0       19.0        125.0  2016  \n",
       "33898              41.0       19.0        121.0  2016  \n",
       "33899              43.0       18.0        117.0  2016  \n",
       "33900              30.0       20.0        130.0  2016  "
      ]
     },
     "execution_count": 43,
     "metadata": {},
     "output_type": "execute_result"
    }
   ],
   "source": [
    "test.head()"
   ]
  },
  {
   "cell_type": "code",
   "execution_count": 44,
   "metadata": {},
   "outputs": [],
   "source": [
    "test.to_csv('test.csv')\n",
    "train.to_csv('train.csv')"
   ]
  },
  {
   "cell_type": "markdown",
   "metadata": {},
   "source": [
    "### names of independent variables:\n",
    "'Temperature', 'holiday', 'prev value','twice prev value','day shift','month shift'\n",
    "\n",
    "### name of dependent variable: \n",
    "'tv delta'\n"
   ]
  }
 ],
 "metadata": {
  "kernelspec": {
   "display_name": "Python 3",
   "language": "python",
   "name": "python3"
  },
  "language_info": {
   "codemirror_mode": {
    "name": "ipython",
    "version": 3
   },
   "file_extension": ".py",
   "mimetype": "text/x-python",
   "name": "python",
   "nbconvert_exporter": "python",
   "pygments_lexer": "ipython3",
   "version": "3.7.6"
  }
 },
 "nbformat": 4,
 "nbformat_minor": 4
}
